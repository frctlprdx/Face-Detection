{
  "nbformat": 4,
  "nbformat_minor": 0,
  "metadata": {
    "colab": {
      "provenance": [],
      "gpuType": "T4",
      "authorship_tag": "ABX9TyPbfC9kEjG90t4Gs+c+VCKh",
      "include_colab_link": true
    },
    "kernelspec": {
      "name": "python3",
      "display_name": "Python 3"
    },
    "language_info": {
      "name": "python"
    },
    "accelerator": "GPU"
  },
  "cells": [
    {
      "cell_type": "markdown",
      "metadata": {
        "id": "view-in-github",
        "colab_type": "text"
      },
      "source": [
        "<a href=\"https://colab.research.google.com/github/frctlprdx/Face-Detection/blob/main/FaceDetection.ipynb\" target=\"_parent\"><img src=\"https://colab.research.google.com/assets/colab-badge.svg\" alt=\"Open In Colab\"/></a>"
      ]
    },
    {
      "cell_type": "code",
      "source": [
        "from google.colab import drive\n",
        "from google.colab.patches import cv2_imshow\n",
        "import numpy as np\n",
        "import os\n",
        "import cv2\n",
        "import h5py"
      ],
      "metadata": {
        "id": "sCRemf16ffS7"
      },
      "execution_count": 1,
      "outputs": []
    },
    {
      "cell_type": "code",
      "source": [
        "#Akses Google Drive\n",
        "\n",
        "drive.mount('/content/drive')"
      ],
      "metadata": {
        "colab": {
          "base_uri": "https://localhost:8080/"
        },
        "id": "VswC0nnMfoMG",
        "outputId": "de7e2dc5-94cc-438a-f7fc-83bc3b0e7a4c"
      },
      "execution_count": 2,
      "outputs": [
        {
          "output_type": "stream",
          "name": "stdout",
          "text": [
            "Mounted at /content/drive\n"
          ]
        }
      ]
    },
    {
      "cell_type": "code",
      "source": [
        "#Path untuk ke folder nya\n",
        "\n",
        "path = \"/content/drive/MyDrive/nist_2\""
      ],
      "metadata": {
        "id": "nH7Jn28JeYNz"
      },
      "execution_count": 3,
      "outputs": []
    },
    {
      "cell_type": "code",
      "source": [
        "#Check apakah path nya ada\n",
        "\n",
        "if os.path.exists(path):\n",
        "    print(\"File atau folder ada!\")\n",
        "else:\n",
        "    print(\"File atau folder tidak ada.\")"
      ],
      "metadata": {
        "colab": {
          "base_uri": "https://localhost:8080/"
        },
        "id": "yDrZQ6lsfLk5",
        "outputId": "159dd722-ac89-41c8-b40b-fd5f2d20d8cd"
      },
      "execution_count": 4,
      "outputs": [
        {
          "output_type": "stream",
          "name": "stdout",
          "text": [
            "File atau folder ada!\n"
          ]
        }
      ]
    },
    {
      "cell_type": "code",
      "source": [
        "train_path = '/content/drive/MyDrive/nist_2/train'\n",
        "\n",
        "if os.path.exists(train_path):\n",
        "    print(\"Folder Train ada!\")\n",
        "else:\n",
        "    print(\"Folder tidak ada.\")"
      ],
      "metadata": {
        "colab": {
          "base_uri": "https://localhost:8080/"
        },
        "id": "XEltlHhNfw1m",
        "outputId": "e8fa8d85-3f45-4ec8-a9c1-745320464a82"
      },
      "execution_count": 5,
      "outputs": [
        {
          "output_type": "stream",
          "name": "stdout",
          "text": [
            "Folder Train ada!\n"
          ]
        }
      ]
    },
    {
      "cell_type": "code",
      "source": [
        "subfolder_name = 'sample train_augment'\n",
        "augtrain_path = os.path.join(path, subfolder_name)\n",
        "\n",
        "if os.path.exists(augtrain_path):\n",
        "    print(\"Folder sample traing augment ada!\")\n",
        "else:\n",
        "    print(\"Folder tidak ada.\")"
      ],
      "metadata": {
        "colab": {
          "base_uri": "https://localhost:8080/"
        },
        "id": "kaUhxhMnmJUl",
        "outputId": "31ba85da-638c-4f93-b34d-f6c35a1cf00d"
      },
      "execution_count": 6,
      "outputs": [
        {
          "output_type": "stream",
          "name": "stdout",
          "text": [
            "Folder sample traing augment ada!\n"
          ]
        }
      ]
    },
    {
      "cell_type": "code",
      "source": [
        "val_path = '/content/drive/MyDrive/nist_2/val'\n",
        "\n",
        "if os.path.exists(val_path):\n",
        "    print(\"Folder Val ada!\")\n",
        "else:\n",
        "    print(\"Folder tidak ada.\")"
      ],
      "metadata": {
        "colab": {
          "base_uri": "https://localhost:8080/"
        },
        "id": "EBB7ni80n8z-",
        "outputId": "c408b7c8-fa27-4bd7-95cc-1502a2aeb7df"
      },
      "execution_count": 7,
      "outputs": [
        {
          "output_type": "stream",
          "name": "stdout",
          "text": [
            "Folder Val ada!\n"
          ]
        }
      ]
    },
    {
      "cell_type": "code",
      "source": [
        "batch_size = 10\n",
        "training_images = []\n",
        "\n",
        "for subdir, dirs, files in os.walk(train_path):\n",
        "    batch_images = []\n",
        "    for file in files:\n",
        "        # Cek apakah file tersebut adalah gambar (ekstensi yang umum)\n",
        "        if file.endswith(('ppm')):\n",
        "            # Buat path lengkap ke gambar\n",
        "            image_path = os.path.join(subdir, file)\n",
        "\n",
        "            # Baca gambar menggunakan OpenCV\n",
        "            image = cv2.imread(image_path)\n",
        "\n",
        "            if image is not None:\n",
        "                # Tambahkan gambar ke list batch\n",
        "                batch_images.append(image)\n",
        "\n",
        "            # Jika sudah mencapai ukuran batch, tambahkan ke training_images\n",
        "            if len(batch_images) == batch_size:\n",
        "                training_images.extend(batch_images)\n",
        "                batch_images = []  # Reset untuk batch berikutnya\n",
        "\n",
        "    # Menangani sisa gambar yang kurang dari batch_size\n",
        "    if batch_images:\n",
        "        training_images.extend(batch_images)\n",
        "\n",
        "print(f'Total images processed: {len(training_images)}')"
      ],
      "metadata": {
        "colab": {
          "base_uri": "https://localhost:8080/"
        },
        "collapsed": true,
        "id": "vgsNyrvkqXqd",
        "outputId": "ce255290-aded-471a-fa5e-c2bb74170708"
      },
      "execution_count": 8,
      "outputs": [
        {
          "output_type": "stream",
          "name": "stdout",
          "text": [
            "Total images processed: 393\n"
          ]
        }
      ]
    },
    {
      "cell_type": "code",
      "source": [],
      "metadata": {
        "id": "fOAmTSa6k5gW"
      },
      "execution_count": 8,
      "outputs": []
    }
  ]
}