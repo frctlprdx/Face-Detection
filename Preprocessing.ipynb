{
  "cells": [
    {
      "cell_type": "markdown",
      "metadata": {
        "id": "view-in-github",
        "colab_type": "text"
      },
      "source": [
        "<a href=\"https://colab.research.google.com/github/frctlprdx/Face-Detection/blob/main/Preprocessing.ipynb\" target=\"_parent\"><img src=\"https://colab.research.google.com/assets/colab-badge.svg\" alt=\"Open In Colab\"/></a>"
      ]
    },
    {
      "cell_type": "markdown",
      "metadata": {
        "id": "K1w5kq0B8CBi"
      },
      "source": [
        "#Import Library"
      ]
    },
    {
      "cell_type": "code",
      "execution_count": null,
      "metadata": {
        "id": "yNenfLVbhPlA",
        "collapsed": true
      },
      "outputs": [],
      "source": [
        "!pip install mtcnn"
      ]
    },
    {
      "cell_type": "code",
      "execution_count": null,
      "metadata": {
        "id": "sCRemf16ffS7"
      },
      "outputs": [],
      "source": [
        "from google.colab import drive\n",
        "from google.colab.patches import cv2_imshow\n",
        "from PIL import Image, ImageDraw, ImageOps\n",
        "from mtcnn import MTCNN\n",
        "import matplotlib.pyplot as plt\n",
        "import numpy as np\n",
        "import os\n",
        "import cv2\n",
        "import h5py"
      ]
    },
    {
      "cell_type": "markdown",
      "metadata": {
        "id": "W94THzYy8MbR"
      },
      "source": [
        "#Access Your Personal Google Drive"
      ]
    },
    {
      "cell_type": "code",
      "execution_count": null,
      "metadata": {
        "id": "VswC0nnMfoMG"
      },
      "outputs": [],
      "source": [
        "#Access Google Drive\n",
        "\n",
        "drive.mount('/content/drive')"
      ]
    },
    {
      "cell_type": "markdown",
      "metadata": {
        "id": "_DCau2Vu8gxl"
      },
      "source": [
        "#1. Preprocessing"
      ]
    },
    {
      "cell_type": "markdown",
      "metadata": {
        "id": "kWUgAaUO8j0I"
      },
      "source": [
        "##1.1. Draw Bounding Boxes each Photos"
      ]
    },
    {
      "cell_type": "markdown",
      "metadata": {
        "id": "htCBh4yc-zvS"
      },
      "source": [
        "###1.1.1. Draw on Train Data"
      ]
    },
    {
      "cell_type": "code",
      "execution_count": null,
      "metadata": {
        "id": "G7TnuBhJhtz9"
      },
      "outputs": [],
      "source": [
        "output_dir = '/content/drive/MyDrive/bounding_boxes/train'"
      ]
    },
    {
      "cell_type": "markdown",
      "metadata": {
        "id": "5arY3Xf2-352"
      },
      "source": [
        "####Draw bounding boxes"
      ]
    },
    {
      "cell_type": "code",
      "execution_count": null,
      "metadata": {
        "colab": {
          "background_save": true
        },
        "id": "fOAmTSa6k5gW"
      },
      "outputs": [],
      "source": [
        "# 1. Initialize path\n",
        "train_dir = '/content/drive/MyDrive/nist_2/train'\n",
        "\n",
        "# Make sure MTCNN intialized\n",
        "detector = MTCNN()\n",
        "\n",
        "# Function to add Bounding Box\n",
        "def process_image(image_path, output_path):\n",
        "    image = Image.open(image_path)\n",
        "    image_np = np.array(image)\n",
        "\n",
        "    # Detect faces using MTCNN\n",
        "    faces = detector.detect_faces(image_np)\n",
        "\n",
        "    # If the faces detected, add bounding box\n",
        "    if faces:\n",
        "        for face in faces:\n",
        "            x, y, width, height = face['box']\n",
        "            # Draw rectangle (bounding box) around faces\n",
        "            image_np = np.array(image)\n",
        "            image_with_box = Image.fromarray(image_np)\n",
        "            draw = ImageDraw.Draw(image_with_box)\n",
        "            draw.rectangle([x, y, x + width, y + height], outline=\"red\", width=3)\n",
        "            image_with_box.save(output_path)\n",
        "    else:\n",
        "        print(f\"No face detected in {image_path}\")\n",
        "\n",
        "# 2. Looping through folder and photos\n",
        "for folder_name in os.listdir(train_dir):\n",
        "    folder_path = os.path.join(train_dir, folder_name)\n",
        "\n",
        "    if os.path.isdir(folder_path):  # Make sure it is folder\n",
        "        # Make Folder inside bounding_boxes/training\n",
        "        output_folder_path = os.path.join(output_dir, folder_name)\n",
        "        os.makedirs(output_folder_path, exist_ok=True)\n",
        "\n",
        "        # Looping photos inside folder\n",
        "        for image_name in os.listdir(folder_path):\n",
        "            image_path = os.path.join(folder_path, image_name)\n",
        "            output_image_path = os.path.join(output_folder_path, image_name)\n",
        "\n",
        "            # Add bounding box and save the results\n",
        "            process_image(image_path, output_image_path)\n",
        "\n",
        "print(\"Process finish, bounding box has been added to all photos.\")"
      ]
    },
    {
      "cell_type": "markdown",
      "metadata": {
        "id": "a-djSXDtsfRF"
      },
      "source": [
        "####Check Pictures"
      ]
    },
    {
      "cell_type": "code",
      "execution_count": null,
      "metadata": {
        "colab": {
          "base_uri": "https://localhost:8080/"
        },
        "id": "sLaszn6JsHRS",
        "outputId": "5d244de1-9727-4e5e-e212-7672d5ba3580"
      },
      "outputs": [
        {
          "name": "stdout",
          "output_type": "stream",
          "text": [
            "Total Photos in Bounding Boxes Folder 393\n"
          ]
        }
      ],
      "source": [
        "# Count photos inside the subfolder\n",
        "total_images = 0\n",
        "\n",
        "# Looping through folder and subfolder\n",
        "for root, dirs, files in os.walk(output_dir):\n",
        "    for file in files:\n",
        "        # If file has wanted extension\n",
        "        if file.endswith(('.ppm')):  # Add another extension if needed\n",
        "            total_images += 1\n",
        "\n",
        "print(f\"Total Photos in Bounding Boxes Folder {total_images}\")\n"
      ]
    },
    {
      "cell_type": "markdown",
      "metadata": {
        "id": "6H-O0yIU9e0q"
      },
      "source": [
        "###1.1.2. Draw on Augmented Data"
      ]
    },
    {
      "cell_type": "code",
      "execution_count": null,
      "metadata": {
        "id": "fN6AE7809ofz"
      },
      "outputs": [],
      "source": [
        "output_dir = '/content/drive/MyDrive/nist_2/sample train_augment'"
      ]
    },
    {
      "cell_type": "markdown",
      "source": [
        "####Draw Bounding Boxes"
      ],
      "metadata": {
        "id": "4Z27NlIYm9XX"
      }
    },
    {
      "cell_type": "code",
      "execution_count": null,
      "metadata": {
        "id": "rbU7OhQF9_pM"
      },
      "outputs": [],
      "source": [
        "# 1. Initialize path\n",
        "train_dir = '/content/drive/MyDrive/nist_2/sample train_augment'\n",
        "\n",
        "# Make sure MTCNN intialized\n",
        "detector = MTCNN()\n",
        "\n",
        "# Function to add Bounding Box\n",
        "def process_image(image_path, output_path):\n",
        "    image = Image.open(image_path)\n",
        "    image_np = np.array(image)\n",
        "\n",
        "    # Detect faces using MTCNN\n",
        "    faces = detector.detect_faces(image_np)\n",
        "\n",
        "    # If the faces detected, add bounding box\n",
        "    if faces:\n",
        "        for face in faces:\n",
        "            x, y, width, height = face['box']\n",
        "            # Draw rectangle (bounding box) around faces\n",
        "            image_np = np.array(image)\n",
        "            image_with_box = Image.fromarray(image_np)\n",
        "            draw = ImageDraw.Draw(image_with_box)\n",
        "            draw.rectangle([x, y, x + width, y + height], outline=\"red\", width=3)\n",
        "            image_with_box.save(output_path)\n",
        "    else:\n",
        "        print(f\"No face detected in {image_path}\")\n",
        "\n",
        "# 2. Looping through folder and photos\n",
        "for folder_name in os.listdir(train_dir):\n",
        "    folder_path = os.path.join(train_dir, folder_name)\n",
        "\n",
        "    if os.path.isdir(folder_path):  # Make sure it is folder\n",
        "        # Make Folder inside bounding_boxes/training\n",
        "        output_folder_path = os.path.join(output_dir, folder_name)\n",
        "        os.makedirs(output_folder_path, exist_ok=True)\n",
        "\n",
        "        # Looping photos inside folder\n",
        "        for image_name in os.listdir(folder_path):\n",
        "            image_path = os.path.join(folder_path, image_name)\n",
        "            output_image_path = os.path.join(output_folder_path, image_name)\n",
        "\n",
        "            # Add bounding box and save the results\n",
        "            process_image(image_path, output_image_path)\n",
        "\n",
        "print(\"Process finish, bounding box has been added to all photos.\")"
      ]
    },
    {
      "cell_type": "markdown",
      "source": [
        "####Check Picture"
      ],
      "metadata": {
        "id": "1Me5SLF9nDED"
      }
    },
    {
      "cell_type": "code",
      "source": [
        "# Set path ke folder sample train_augment\n",
        "path_to_augment = '/content/drive/MyDrive/nist_2/sample train_augment'\n",
        "\n",
        "# Looping melalui setiap subfolder\n",
        "for folder_name in os.listdir(path_to_augment):\n",
        "    folder_path = os.path.join(path_to_augment, folder_name)\n",
        "\n",
        "    # Memastikan bahwa folder_path adalah direktori\n",
        "    if os.path.isdir(folder_path):\n",
        "        # Menghitung jumlah gambar dalam folder\n",
        "        image_count = len([f for f in os.listdir(folder_path) if f.endswith(('.ppm'))])\n",
        "\n",
        "        # Menampilkan jumlah gambar untuk subfolder\n",
        "        print(f\"Subfolder '{folder_name}' memiliki {image_count} gambar.\")\n"
      ],
      "metadata": {
        "id": "rwu7SAdtjC34"
      },
      "execution_count": null,
      "outputs": []
    },
    {
      "cell_type": "code",
      "source": [
        "import os\n",
        "\n",
        "# Set path ke folder sample train_augment\n",
        "path_to_augment = '/content/drive/MyDrive/bounding_boxes/augmented'\n",
        "\n",
        "# Looping melalui setiap subfolder\n",
        "for folder_name in os.listdir(path_to_augment):\n",
        "    folder_path = os.path.join(path_to_augment, folder_name)\n",
        "\n",
        "    # Memastikan bahwa folder_path adalah direktori\n",
        "    if os.path.isdir(folder_path):\n",
        "        # Menghitung jumlah gambar dalam folder\n",
        "        image_count = len([f for f in os.listdir(folder_path) if f.endswith(('.ppm'))])\n",
        "\n",
        "        # Menampilkan jumlah gambar untuk subfolder\n",
        "        print(f\"Subfolder '{folder_name}' memiliki {image_count} gambar.\")\n"
      ],
      "metadata": {
        "colab": {
          "base_uri": "https://localhost:8080/"
        },
        "id": "clabMl8mkQKp",
        "outputId": "05d7fd85-91f6-4363-c2c6-5989472a70fd",
        "collapsed": true
      },
      "execution_count": null,
      "outputs": [
        {
          "output_type": "stream",
          "name": "stdout",
          "text": [
            "Subfolder 'S001' memiliki 12 gambar.\n",
            "Subfolder 'S006' memiliki 11 gambar.\n",
            "Subfolder 'S029' memiliki 12 gambar.\n",
            "Subfolder 'S027' memiliki 12 gambar.\n",
            "Subfolder 'S023' memiliki 12 gambar.\n",
            "Subfolder 'S008' memiliki 12 gambar.\n",
            "Subfolder 'S015' memiliki 10 gambar.\n",
            "Subfolder 'S022' memiliki 12 gambar.\n",
            "Subfolder 'S013' memiliki 12 gambar.\n",
            "Subfolder 'S036' memiliki 10 gambar.\n",
            "Subfolder 'S032' memiliki 12 gambar.\n",
            "Subfolder 'S045' memiliki 12 gambar.\n",
            "Subfolder 'S048' memiliki 9 gambar.\n",
            "Subfolder 'S051' memiliki 9 gambar.\n",
            "Subfolder 'S033' memiliki 12 gambar.\n",
            "Subfolder 'S030' memiliki 12 gambar.\n",
            "Subfolder 'S031' memiliki 10 gambar.\n",
            "Subfolder 'S044' memiliki 12 gambar.\n",
            "Subfolder 'S046' memiliki 12 gambar.\n",
            "Subfolder 'S068' memiliki 12 gambar.\n",
            "Subfolder 'S065' memiliki 12 gambar.\n",
            "Subfolder 'S064' memiliki 11 gambar.\n",
            "Subfolder 'S059' memiliki 10 gambar.\n",
            "Subfolder 'S076' memiliki 10 gambar.\n",
            "Subfolder 'S054' memiliki 11 gambar.\n",
            "Subfolder 'S069' memiliki 9 gambar.\n",
            "Subfolder 'S052' memiliki 12 gambar.\n",
            "Subfolder 'S073' memiliki 11 gambar.\n",
            "Subfolder 'S058' memiliki 10 gambar.\n",
            "Subfolder 'S108' memiliki 10 gambar.\n",
            "Subfolder 'S099' memiliki 11 gambar.\n",
            "Subfolder 'S098' memiliki 10 gambar.\n",
            "Subfolder 'S078' memiliki 10 gambar.\n",
            "Subfolder 'S088' memiliki 11 gambar.\n",
            "Subfolder 'S101' memiliki 11 gambar.\n",
            "Subfolder 'S093' memiliki 12 gambar.\n",
            "Subfolder 'S085' memiliki 10 gambar.\n",
            "Subfolder 'S096' memiliki 11 gambar.\n",
            "Subfolder 'S095' memiliki 11 gambar.\n",
            "Subfolder 'S132' memiliki 9 gambar.\n",
            "Subfolder 'S130' memiliki 10 gambar.\n",
            "Subfolder 'S124' memiliki 11 gambar.\n",
            "Subfolder 'S112' memiliki 11 gambar.\n",
            "Subfolder 'S117' memiliki 11 gambar.\n",
            "Subfolder 'S134' memiliki 12 gambar.\n",
            "Subfolder 'S118' memiliki 12 gambar.\n",
            "Subfolder 'S120' memiliki 7 gambar.\n",
            "Subfolder 'S111' memiliki 11 gambar.\n",
            "Subfolder 'S133' memiliki 9 gambar.\n",
            "Subfolder 'S163' memiliki 12 gambar.\n",
            "Subfolder 'S145' memiliki 11 gambar.\n",
            "Subfolder 'S150' memiliki 11 gambar.\n",
            "Subfolder 'S166' memiliki 11 gambar.\n",
            "Subfolder 'S164' memiliki 9 gambar.\n",
            "Subfolder 'S138' memiliki 11 gambar.\n",
            "Subfolder 'S146' memiliki 11 gambar.\n",
            "Subfolder 'S153' memiliki 10 gambar.\n",
            "Subfolder 'S142' memiliki 12 gambar.\n",
            "Subfolder 'S148' memiliki 12 gambar.\n",
            "Subfolder 'S171' memiliki 12 gambar.\n",
            "Subfolder 'S194' memiliki 11 gambar.\n",
            "Subfolder 'S180' memiliki 9 gambar.\n",
            "Subfolder 'S182' memiliki 11 gambar.\n",
            "Subfolder 'S174' memiliki 12 gambar.\n",
            "Subfolder 'S190' memiliki 11 gambar.\n",
            "Subfolder 'S193' memiliki 12 gambar.\n",
            "Subfolder 'S173' memiliki 12 gambar.\n",
            "Subfolder 'S191' memiliki 12 gambar.\n",
            "Subfolder 'S185' memiliki 12 gambar.\n",
            "Subfolder 'S214' memiliki 12 gambar.\n",
            "Subfolder 'S201' memiliki 11 gambar.\n",
            "Subfolder 'S195' memiliki 12 gambar.\n",
            "Subfolder 'S198' memiliki 10 gambar.\n",
            "Subfolder 'S203' memiliki 7 gambar.\n",
            "Subfolder 'S215' memiliki 12 gambar.\n",
            "Subfolder 'S199' memiliki 11 gambar.\n",
            "Subfolder 'S202' memiliki 12 gambar.\n",
            "Subfolder 'S212' memiliki 12 gambar.\n",
            "Subfolder 'S206' memiliki 12 gambar.\n",
            "Subfolder 'S223' memiliki 9 gambar.\n",
            "Subfolder 'S232' memiliki 12 gambar.\n",
            "Subfolder 'S219' memiliki 12 gambar.\n",
            "Subfolder 'S222' memiliki 11 gambar.\n",
            "Subfolder 'S228' memiliki 11 gambar.\n",
            "Subfolder 'S220' memiliki 10 gambar.\n",
            "Subfolder 'S236' memiliki 10 gambar.\n",
            "Subfolder 'S227' memiliki 11 gambar.\n",
            "Subfolder 'S225' memiliki 12 gambar.\n",
            "Subfolder 'S226' memiliki 11 gambar.\n",
            "Subfolder 'S243' memiliki 12 gambar.\n",
            "Subfolder 'S258' memiliki 12 gambar.\n",
            "Subfolder 'S239' memiliki 11 gambar.\n",
            "Subfolder 'S250' memiliki 12 gambar.\n",
            "Subfolder 'S256' memiliki 12 gambar.\n",
            "Subfolder 'S254' memiliki 12 gambar.\n",
            "Subfolder 'S240' memiliki 11 gambar.\n",
            "Subfolder 'S253' memiliki 10 gambar.\n",
            "Subfolder 'S249' memiliki 11 gambar.\n",
            "Subfolder 'S259' memiliki 12 gambar.\n",
            "Subfolder 'S280' memiliki 11 gambar.\n",
            "Subfolder 'S261' memiliki 12 gambar.\n",
            "Subfolder 'S263' memiliki 11 gambar.\n",
            "Subfolder 'S270' memiliki 12 gambar.\n",
            "Subfolder 'S283' memiliki 11 gambar.\n",
            "Subfolder 'S273' memiliki 12 gambar.\n",
            "Subfolder 'S284' memiliki 10 gambar.\n",
            "Subfolder 'S282' memiliki 12 gambar.\n",
            "Subfolder 'S272' memiliki 11 gambar.\n",
            "Subfolder 'S285' memiliki 10 gambar.\n",
            "Subfolder 'S310' memiliki 12 gambar.\n",
            "Subfolder 'S295' memiliki 9 gambar.\n",
            "Subfolder 'S307' memiliki 10 gambar.\n",
            "Subfolder 'S304' memiliki 10 gambar.\n",
            "Subfolder 'S291' memiliki 10 gambar.\n",
            "Subfolder 'S300' memiliki 12 gambar.\n",
            "Subfolder 'S288' memiliki 12 gambar.\n",
            "Subfolder 'S297' memiliki 12 gambar.\n",
            "Subfolder 'S309' memiliki 11 gambar.\n",
            "Subfolder 'S296' memiliki 12 gambar.\n",
            "Subfolder 'S313' memiliki 12 gambar.\n",
            "Subfolder 'S333' memiliki 11 gambar.\n",
            "Subfolder 'S315' memiliki 10 gambar.\n",
            "Subfolder 'S316' memiliki 11 gambar.\n",
            "Subfolder 'S325' memiliki 11 gambar.\n",
            "Subfolder 'S336' memiliki 11 gambar.\n",
            "Subfolder 'S335' memiliki 10 gambar.\n",
            "Subfolder 'S321' memiliki 11 gambar.\n",
            "Subfolder 'S324' memiliki 12 gambar.\n",
            "Subfolder 'S331' memiliki 12 gambar.\n",
            "Subfolder 'S357' memiliki 12 gambar.\n",
            "Subfolder 'S353' memiliki 12 gambar.\n",
            "Subfolder 'S351' memiliki 11 gambar.\n",
            "Subfolder 'S355' memiliki 9 gambar.\n",
            "Subfolder 'S341' memiliki 11 gambar.\n",
            "Subfolder 'S354' memiliki 12 gambar.\n",
            "Subfolder 'S346' memiliki 11 gambar.\n",
            "Subfolder 'S352' memiliki 12 gambar.\n",
            "Subfolder 'S350' memiliki 10 gambar.\n",
            "Subfolder 'S364' memiliki 9 gambar.\n",
            "Subfolder 'S375' memiliki 12 gambar.\n",
            "Subfolder 'S382' memiliki 12 gambar.\n",
            "Subfolder 'S373' memiliki 12 gambar.\n",
            "Subfolder 'S385' memiliki 12 gambar.\n",
            "Subfolder 'S380' memiliki 11 gambar.\n",
            "Subfolder 'S381' memiliki 12 gambar.\n",
            "Subfolder 'S383' memiliki 8 gambar.\n",
            "Subfolder 'S367' memiliki 10 gambar.\n",
            "Subfolder 'S376' memiliki 11 gambar.\n",
            "Subfolder 'S384' memiliki 11 gambar.\n",
            "Subfolder 'S390' memiliki 11 gambar.\n",
            "Subfolder 'S389' memiliki 11 gambar.\n",
            "Subfolder 'S392' memiliki 10 gambar.\n",
            "Subfolder 'S387' memiliki 12 gambar.\n",
            "Subfolder 'S395' memiliki 12 gambar.\n",
            "Subfolder 'S393' memiliki 12 gambar.\n",
            "Subfolder 'S394' memiliki 11 gambar.\n",
            "Subfolder 'S388' memiliki 11 gambar.\n",
            "Subfolder 'S386' memiliki 12 gambar.\n",
            "Subfolder 'S391' memiliki 11 gambar.\n",
            "Subfolder 'S396' memiliki 11 gambar.\n",
            "Subfolder 'S402' memiliki 12 gambar.\n",
            "Subfolder 'S398' memiliki 11 gambar.\n",
            "Subfolder 'S401' memiliki 11 gambar.\n",
            "Subfolder 'S399' memiliki 11 gambar.\n",
            "Subfolder 'S397' memiliki 11 gambar.\n",
            "Subfolder 'S405' memiliki 11 gambar.\n",
            "Subfolder 'S404' memiliki 11 gambar.\n",
            "Subfolder 'S400' memiliki 11 gambar.\n",
            "Subfolder 'S403' memiliki 12 gambar.\n",
            "Subfolder 'S412' memiliki 11 gambar.\n",
            "Subfolder 'S414' memiliki 11 gambar.\n",
            "Subfolder 'S416' memiliki 10 gambar.\n",
            "Subfolder 'S411' memiliki 12 gambar.\n",
            "Subfolder 'S415' memiliki 11 gambar.\n",
            "Subfolder 'S407' memiliki 9 gambar.\n",
            "Subfolder 'S406' memiliki 12 gambar.\n",
            "Subfolder 'S409' memiliki 12 gambar.\n",
            "Subfolder 'S408' memiliki 12 gambar.\n",
            "Subfolder 'S413' memiliki 12 gambar.\n",
            "Subfolder 'S425' memiliki 11 gambar.\n",
            "Subfolder 'S427' memiliki 11 gambar.\n",
            "Subfolder 'S422' memiliki 10 gambar.\n",
            "Subfolder 'S426' memiliki 10 gambar.\n",
            "Subfolder 'S423' memiliki 10 gambar.\n",
            "Subfolder 'S420' memiliki 11 gambar.\n",
            "Subfolder 'S417' memiliki 10 gambar.\n",
            "Subfolder 'S419' memiliki 11 gambar.\n",
            "Subfolder 'S418' memiliki 12 gambar.\n",
            "Subfolder 'S421' memiliki 10 gambar.\n",
            "Subfolder 'S429' memiliki 12 gambar.\n",
            "Subfolder 'S428' memiliki 12 gambar.\n"
          ]
        }
      ]
    },
    {
      "cell_type": "markdown",
      "source": [
        "From the output we know not all photos are detected as a face"
      ],
      "metadata": {
        "id": "WKaWwULFnHmM"
      }
    },
    {
      "cell_type": "markdown",
      "metadata": {
        "id": "xTCuSl4o8pRt"
      },
      "source": [
        "##1.2. Resize Image"
      ]
    },
    {
      "cell_type": "markdown",
      "source": [
        "###1.2.1 Resize Training data"
      ],
      "metadata": {
        "id": "PFzw1OEnnQi-"
      }
    },
    {
      "cell_type": "markdown",
      "source": [
        "####Resize each photo to be 500x500"
      ],
      "metadata": {
        "id": "z2t9krjsoqQn"
      }
    },
    {
      "cell_type": "code",
      "execution_count": null,
      "metadata": {
        "colab": {
          "base_uri": "https://localhost:8080/"
        },
        "id": "OyNDxMmLhyPA",
        "outputId": "b0130f11-e1d6-452a-bde3-3ed67cd9d093"
      },
      "outputs": [
        {
          "name": "stdout",
          "output_type": "stream",
          "text": [
            "Process finished: images resized/cropped and saved.\n"
          ]
        }
      ],
      "source": [
        "# 1. Initialize path\n",
        "train_dir = '/content/drive/MyDrive/bounding_boxes/training'\n",
        "output_dir = '/content/drive/MyDrive/cropped_images/training'\n",
        "\n",
        "# Function to adjust image size\n",
        "def process_image(image_path, output_path):\n",
        "    image = Image.open(image_path)\n",
        "    w, h = image.size\n",
        "\n",
        "    # Case 1: If smaller than 500x500, add padding\n",
        "    if w < 500 and h < 500:\n",
        "        padded_image = ImageOps.pad(image, (500, 500), color='black')\n",
        "        padded_image.save(output_path)\n",
        "\n",
        "    # Case 2: If larger than 500x500, resize and crop to 500x500, maintaining aspect ratio\n",
        "    elif w > 500 and h > 500:\n",
        "\n",
        "        cropped_image = ImageOps.fit(image, (500, 500), method=Image.LANCZOS)\n",
        "        cropped_image.save(output_path)\n",
        "\n",
        "    elif w < 500 and h > 500 :\n",
        "        fixed_image = ImageOps.fit(image, (500, 500), method=Image.LANCZOS)\n",
        "        fixed_image.save(output_path)\n",
        "\n",
        "    else:\n",
        "        print(f\"No face detected in {image_path}\")\n",
        "\n",
        "# 2. Looping through folder and photos\n",
        "for folder_name in os.listdir(train_dir):\n",
        "    folder_path = os.path.join(train_dir, folder_name)\n",
        "\n",
        "    if os.path.isdir(folder_path):  # Ensure it's a folder\n",
        "        # Create output folder inside cropped_images/training\n",
        "        output_folder_path = os.path.join(output_dir, folder_name)\n",
        "        os.makedirs(output_folder_path, exist_ok=True)\n",
        "\n",
        "        # Looping through photos in the folder\n",
        "        for image_name in os.listdir(folder_path):\n",
        "            image_path = os.path.join(folder_path, image_name)\n",
        "            output_image_path = os.path.join(output_folder_path, image_name)\n",
        "\n",
        "            # Process image: resize/crop, and save\n",
        "            process_image(image_path, output_image_path)\n",
        "\n",
        "print(\"Process finished: images resized/cropped and saved.\")\n"
      ]
    },
    {
      "cell_type": "code",
      "execution_count": null,
      "metadata": {
        "colab": {
          "base_uri": "https://localhost:8080/"
        },
        "id": "YIQ2bPYTv56o",
        "outputId": "70cf57bb-549a-45f1-e71c-bb72135390a1"
      },
      "outputs": [
        {
          "output_type": "stream",
          "name": "stdout",
          "text": [
            "Total Photos in cropped images Folder 393\n"
          ]
        }
      ],
      "source": [
        "total_images = 0\n",
        "\n",
        "# Looping through folder and subfolder\n",
        "for root, dirs, files in os.walk(\"/content/drive/MyDrive/cropped_images/training\"):\n",
        "    for file in files:\n",
        "        # If file has wanted extension\n",
        "        if file.endswith(('.ppm')):  # Add another extension if needed\n",
        "            total_images += 1\n",
        "\n",
        "print(f\"Total Photos in cropped images Folder {total_images}\")\n"
      ]
    },
    {
      "cell_type": "markdown",
      "source": [
        "####Check Data"
      ],
      "metadata": {
        "id": "GYFrjQ79nhwW"
      }
    },
    {
      "cell_type": "code",
      "execution_count": null,
      "metadata": {
        "id": "eRhtz7q985xi"
      },
      "outputs": [],
      "source": [
        "# Initialize MTCNN detector\n",
        "detector = MTCNN()\n",
        "\n",
        "# Initialize path\n",
        "cropped_images_dir = '/content/drive/MyDrive/cropped_images/training'\n",
        "\n",
        "# Function to check if an image contains a face\n",
        "def has_face(image_path):\n",
        "    image = Image.open(image_path)\n",
        "    image_np = np.array(image)\n",
        "\n",
        "    # Detect faces using MTCNN\n",
        "    faces = detector.detect_faces(image_np)\n",
        "\n",
        "    return len(faces) > 0  # Return True if at least one face is detected\n",
        "\n",
        "# Initialize counters\n",
        "face_count = 0\n",
        "no_face_images = []  # List to store images without faces\n",
        "\n",
        "# Loop through all folders and subfolders in cropped_images\n",
        "for root, dirs, files in os.walk(cropped_images_dir):\n",
        "    for file in files:\n",
        "        if file.lower().endswith(('.ppm')):  # Check for image file types\n",
        "            image_path = os.path.join(root, file)\n",
        "            if has_face(image_path):\n",
        "                face_count += 1  # Increment count if face is detected\n",
        "            else:\n",
        "                no_face_images.append(file)  # Add to list if no face is detected\n",
        "\n",
        "# Output results\n",
        "print(f\"Total images with faces detected: {face_count}\")\n",
        "if no_face_images:\n",
        "    print(\"Images without detected faces:\")\n",
        "    for image in no_face_images:\n",
        "        print(image)  # Print the names of images without faces\n",
        "else:\n",
        "    print(\"All images contain faces.\")\n"
      ]
    },
    {
      "cell_type": "markdown",
      "source": [
        "There are 4 photos that have no face but after we open it turns out the photos have a face"
      ],
      "metadata": {
        "id": "etGFGCB2owZU"
      }
    },
    {
      "cell_type": "markdown",
      "source": [
        "###1.2.2 Resize Augmented Data"
      ],
      "metadata": {
        "id": "c8D_t9udpINo"
      }
    },
    {
      "cell_type": "markdown",
      "source": [
        "####Resize each photo to be 500x500"
      ],
      "metadata": {
        "id": "lnvY1thJp-uf"
      }
    },
    {
      "cell_type": "code",
      "source": [
        "# 1. Initialize path\n",
        "augment_dir = '/content/drive/MyDrive/bounding_boxes/augmented'\n",
        "output_dir = '/content/drive/MyDrive/cropped_images/augmented'\n",
        "\n",
        "# Function to adjust image size\n",
        "def process_image(image_path, output_path):\n",
        "    image = Image.open(image_path)\n",
        "    w, h = image.size\n",
        "\n",
        "    # Case 1: If smaller than 500x500, add padding\n",
        "    if w < 500 and h < 500:\n",
        "        padded_image = ImageOps.pad(image, (500, 500), color='black')\n",
        "        padded_image.save(output_path)\n",
        "\n",
        "    # Case 2: If larger than 500x500, resize and crop to 500x500, maintaining aspect ratio\n",
        "    elif w > 500 and h > 500:\n",
        "\n",
        "        cropped_image = ImageOps.fit(image, (500, 500), method=Image.LANCZOS)\n",
        "        cropped_image.save(output_path)\n",
        "\n",
        "    elif w < 500 and h > 500 :\n",
        "        fixed_image = ImageOps.fit(image, (500, 500), method=Image.LANCZOS)\n",
        "        fixed_image.save(output_path)\n",
        "\n",
        "    else:\n",
        "        print(f\"Not same Size {image_path}\")\n",
        "\n",
        "# 2. Looping through folder and photos\n",
        "for folder_name in os.listdir(augment_dir):\n",
        "    folder_path = os.path.join(augment_dir, folder_name)\n",
        "\n",
        "    if os.path.isdir(folder_path):  # Ensure it's a folder\n",
        "        # Create output folder inside cropped_images/augment\n",
        "        output_folder_path = os.path.join(output_dir, folder_name)\n",
        "        os.makedirs(output_folder_path, exist_ok=True)\n",
        "\n",
        "        # Looping through photos in the folder\n",
        "        for image_name in os.listdir(folder_path):\n",
        "            image_path = os.path.join(folder_path, image_name)\n",
        "            output_image_path = os.path.join(output_folder_path, image_name)\n",
        "\n",
        "            # Process image: resize/crop, and save\n",
        "            process_image(image_path, output_image_path)\n",
        "\n",
        "print(\"Process finished: images resized/cropped and saved.\")\n"
      ],
      "metadata": {
        "colab": {
          "base_uri": "https://localhost:8080/"
        },
        "id": "V2zBgCofpkwZ",
        "outputId": "77a61120-9a63-4aa4-8c93-5a058129fca1"
      },
      "execution_count": null,
      "outputs": [
        {
          "output_type": "stream",
          "name": "stdout",
          "text": [
            "Process finished: images resized/cropped and saved.\n"
          ]
        }
      ]
    },
    {
      "cell_type": "markdown",
      "source": [
        "####Check Data"
      ],
      "metadata": {
        "id": "dPavbuQwJ8Rz"
      }
    },
    {
      "cell_type": "code",
      "source": [
        "# Set path ke folder sample train_augment\n",
        "path_to_augment = '/content/drive/MyDrive/cropped_images/augmented'\n",
        "\n",
        "# Inisialisasi variabel untuk menghitung total gambar\n",
        "total_image_count = 0\n",
        "\n",
        "# Looping melalui setiap subfolder\n",
        "for folder_name in os.listdir(path_to_augment):\n",
        "    folder_path = os.path.join(path_to_augment, folder_name)\n",
        "\n",
        "    # Memastikan bahwa folder_path adalah direktori\n",
        "    if os.path.isdir(folder_path):\n",
        "        # Menghitung jumlah gambar dalam folder\n",
        "        image_count = len([f for f in os.listdir(folder_path) if f.endswith(('.ppm'))])\n",
        "\n",
        "        # Menampilkan jumlah gambar untuk subfolder\n",
        "        print(f\"Subfolder '{folder_name}' memiliki {image_count} gambar.\")\n",
        "\n",
        "        # Tambahkan jumlah gambar subfolder ke total\n",
        "        total_image_count += image_count\n",
        "\n",
        "# Menampilkan total gambar\n",
        "print(f\"Total gambar di semua subfolder: {total_image_count}\")"
      ],
      "metadata": {
        "id": "4K64TDzEIS2g"
      },
      "execution_count": null,
      "outputs": []
    },
    {
      "cell_type": "markdown",
      "metadata": {
        "id": "mS9xSCyBNmSy"
      },
      "source": [
        "##1.3. Normalize Picture"
      ]
    },
    {
      "cell_type": "markdown",
      "source": [
        "###1.3.1. Train data"
      ],
      "metadata": {
        "id": "LFyFcejWXrfK"
      }
    },
    {
      "cell_type": "markdown",
      "source": [
        "####Normalized train images"
      ],
      "metadata": {
        "id": "jufIyxHzypJW"
      }
    },
    {
      "cell_type": "code",
      "source": [
        "# Path ke folder yang berisi gambar\n",
        "input_dir = '/content/drive/MyDrive/cropped_images/training'\n",
        "# Path ke folder output untuk gambar yang dinormalisasi\n",
        "output_dir = '/content/drive/MyDrive/normalized/train'\n",
        "\n",
        "# Fungsi untuk menormalisasi gambar\n",
        "def normalize_image(image_path):\n",
        "    image = Image.open(image_path).convert('RGB')\n",
        "    image_np = np.array(image).astype(np.float32)\n",
        "\n",
        "    # Normalisasi gambar ke rentang [0, 1]\n",
        "    normalized_image_np = image_np / 255.0\n",
        "\n",
        "    # Kembalikan ke format gambar\n",
        "    normalized_image = Image.fromarray((normalized_image_np * 255).astype(np.uint8))\n",
        "\n",
        "    return normalized_image\n",
        "\n",
        "# Looping melalui setiap subfolder\n",
        "for folder_name in os.listdir(input_dir):\n",
        "    folder_path = os.path.join(input_dir, folder_name)\n",
        "\n",
        "    if os.path.isdir(folder_path):  # Pastikan folder\n",
        "        # Buat folder output sesuai nama subfolder\n",
        "        output_folder_path = os.path.join(output_dir, folder_name)\n",
        "        os.makedirs(output_folder_path, exist_ok=True)\n",
        "\n",
        "        # Looping melalui setiap gambar dalam subfolder\n",
        "        for image_name in os.listdir(folder_path):\n",
        "            if image_name.endswith(('.ppm')):  # Sesuaikan dengan format yang Anda miliki\n",
        "                image_path = os.path.join(folder_path, image_name)\n",
        "\n",
        "                # Normalisasi gambar\n",
        "                normalized_image = normalize_image(image_path)\n",
        "\n",
        "                # Simpan gambar yang dinormalisasi\n",
        "                output_image_path = os.path.join(output_folder_path, image_name)\n",
        "                normalized_image.save(output_image_path)\n",
        "\n",
        "print(\"Normalisasi selesai. Gambar telah disimpan di folder normalized/train.\")\n"
      ],
      "metadata": {
        "id": "hp6caDvOL0u6",
        "colab": {
          "base_uri": "https://localhost:8080/"
        },
        "outputId": "fdb001c1-b0a3-4417-988c-99730971adcf"
      },
      "execution_count": null,
      "outputs": [
        {
          "output_type": "stream",
          "name": "stdout",
          "text": [
            "Normalisasi selesai. Gambar telah disimpan di folder normalized/train.\n"
          ]
        }
      ]
    },
    {
      "cell_type": "code",
      "source": [
        "total_images = 0\n",
        "\n",
        "# Looping through folder and subfolder\n",
        "for root, dirs, files in os.walk(\"/content/drive/MyDrive/normalized/train\"):\n",
        "    for file in files:\n",
        "        # If file has wanted extension\n",
        "        if file.endswith(('.ppm')):  # Add another extension if needed\n",
        "            total_images += 1\n",
        "\n",
        "print(f\"Total Photos in cropped images Folder {total_images}\")\n"
      ],
      "metadata": {
        "colab": {
          "base_uri": "https://localhost:8080/"
        },
        "id": "aQlL2uOozBmx",
        "outputId": "dc5a43fd-135e-46b8-dbdb-d34698cea726"
      },
      "execution_count": null,
      "outputs": [
        {
          "output_type": "stream",
          "name": "stdout",
          "text": [
            "Total Photos in cropped images Folder 393\n"
          ]
        }
      ]
    },
    {
      "cell_type": "markdown",
      "source": [
        "###1.3.2. Augment Data"
      ],
      "metadata": {
        "id": "Cyo1htX_yh1C"
      }
    },
    {
      "cell_type": "markdown",
      "source": [
        "####Normalized augment data"
      ],
      "metadata": {
        "id": "P4OPBPDGyvzR"
      }
    },
    {
      "cell_type": "code",
      "source": [
        "# Path ke folder yang berisi gambar\n",
        "input_dir = '/content/drive/MyDrive/cropped_images/augmented'\n",
        "# Path ke folder output untuk gambar yang dinormalisasi\n",
        "output_dir = '/content/drive/MyDrive/normalized/augmented'\n",
        "\n",
        "# Fungsi untuk menormalisasi gambar\n",
        "def normalize_image(image_path):\n",
        "    image = Image.open(image_path)\n",
        "    image_np = np.array(image).astype(np.float32)\n",
        "\n",
        "    # Normalisasi gambar ke rentang [0, 1]\n",
        "    normalized_image_np = image_np / 255.0\n",
        "\n",
        "    # Kembalikan ke format gambar\n",
        "    normalized_image = Image.fromarray((normalized_image_np * 255).astype(np.uint8))\n",
        "\n",
        "    return normalized_image\n",
        "\n",
        "# Looping melalui setiap subfolder\n",
        "for folder_name in os.listdir(input_dir):\n",
        "    folder_path = os.path.join(input_dir, folder_name)\n",
        "\n",
        "    if os.path.isdir(folder_path):  # Pastikan folder\n",
        "        # Buat folder output sesuai nama subfolder\n",
        "        output_folder_path = os.path.join(output_dir, folder_name)\n",
        "        os.makedirs(output_folder_path, exist_ok=True)\n",
        "\n",
        "        # Looping melalui setiap gambar dalam subfolder\n",
        "        for image_name in os.listdir(folder_path):\n",
        "            if image_name.endswith(('.ppm')):  # Sesuaikan dengan format yang Anda miliki\n",
        "                image_path = os.path.join(folder_path, image_name)\n",
        "\n",
        "                # Normalisasi gambar\n",
        "                normalized_image = normalize_image(image_path)\n",
        "\n",
        "                # Simpan gambar yang dinormalisasi\n",
        "                output_image_path = os.path.join(output_folder_path, image_name)\n",
        "                normalized_image.save(output_image_path)\n",
        "\n",
        "print(\"Normalisasi selesai. Gambar telah disimpan di folder normalized/augment.\")\n"
      ],
      "metadata": {
        "id": "t9bx_1E5YZnq",
        "colab": {
          "base_uri": "https://localhost:8080/"
        },
        "outputId": "a04398ce-d6ef-4f2c-acb1-d9d144d1f972"
      },
      "execution_count": null,
      "outputs": [
        {
          "output_type": "stream",
          "name": "stdout",
          "text": [
            "Normalisasi selesai. Gambar telah disimpan di folder normalized/augment.\n"
          ]
        }
      ]
    },
    {
      "cell_type": "markdown",
      "source": [
        "####Check total images"
      ],
      "metadata": {
        "id": "rk0TlWm9y0mD"
      }
    },
    {
      "cell_type": "code",
      "source": [
        "# Set path ke folder sample train_augment\n",
        "path_to_augment = '/content/drive/MyDrive/normalized/augmented'\n",
        "\n",
        "# Inisialisasi variabel untuk menghitung total gambar\n",
        "total_image_count = 0\n",
        "\n",
        "# Looping melalui setiap subfolder\n",
        "for folder_name in os.listdir(path_to_augment):\n",
        "    folder_path = os.path.join(path_to_augment, folder_name)\n",
        "\n",
        "    # Memastikan bahwa folder_path adalah direktori\n",
        "    if os.path.isdir(folder_path):\n",
        "        # Menghitung jumlah gambar dalam folder\n",
        "        image_count = len([f for f in os.listdir(folder_path) if f.endswith(('.ppm'))])\n",
        "\n",
        "        # Menampilkan jumlah gambar untuk subfolder\n",
        "        print(f\"Subfolder '{folder_name}' memiliki {image_count} gambar.\")\n",
        "\n",
        "        # Tambahkan jumlah gambar subfolder ke total\n",
        "        total_image_count += image_count\n",
        "\n",
        "# Menampilkan total gambar\n",
        "print(f\"Total gambar di semua subfolder: {total_image_count}\")"
      ],
      "metadata": {
        "id": "tfr-5WyOs_C8"
      },
      "execution_count": null,
      "outputs": []
    }
  ],
  "metadata": {
    "accelerator": "GPU",
    "colab": {
      "gpuType": "T4",
      "provenance": [],
      "toc_visible": true,
      "authorship_tag": "ABX9TyNMmFahufllUoEMCFqE3zCF",
      "include_colab_link": true
    },
    "kernelspec": {
      "display_name": "Python 3",
      "name": "python3"
    },
    "language_info": {
      "name": "python"
    }
  },
  "nbformat": 4,
  "nbformat_minor": 0
}